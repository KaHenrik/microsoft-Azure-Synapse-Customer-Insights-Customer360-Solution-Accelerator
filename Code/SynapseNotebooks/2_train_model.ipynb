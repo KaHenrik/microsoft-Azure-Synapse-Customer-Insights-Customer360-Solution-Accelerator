{
  "cells": [
    {
      "cell_type": "markdown",
      "metadata": {
        "nteract": {
          "transient": {
            "deleting": false
          }
        }
      },
      "source": [
        "Copyright (c) Microsoft Corporation.\n",
        "\n",
        "Licensed under the MIT License."
      ]
    },
    {
      "cell_type": "markdown",
      "metadata": {
        "nteract": {
          "transient": {
            "deleting": false
          }
        }
      },
      "source": [
        "# Library Imports"
      ]
    },
    {
      "cell_type": "code",
      "execution_count": 1,
      "metadata": {
        "jupyter": {
          "outputs_hidden": false,
          "source_hidden": false
        },
        "nteract": {
          "transient": {
            "deleting": false
          }
        }
      },
      "outputs": [
        {
          "data": {
            "application/vnd.livy.statement-meta+json": {
              "execution_finish_time": "2021-10-14T04:14:16.2108931Z",
              "execution_start_time": "2021-10-14T04:14:03.6278891Z",
              "livy_statement_state": "available",
              "queued_time": "2021-10-14T04:13:30.7608576Z",
              "session_id": 35,
              "session_start_time": "2021-10-14T04:13:30.7940145Z",
              "spark_pool": "spark1",
              "state": "finished",
              "statement_id": 1
            },
            "text/plain": [
              "StatementMeta(spark1, 35, 1, Finished, Available)"
            ]
          },
          "metadata": {},
          "output_type": "display_data"
        }
      ],
      "source": [
        "import azureml.core\n",
        "#print(\"SDK Version:\", azureml.core.VERSION)\n",
        "from azureml.core.experiment import Experiment\n",
        "from azureml.core.workspace import Workspace\n",
        "from azureml.train.automl.run import AutoMLRun\n",
        "from azureml.train.automl import AutoMLConfig\n",
        "from azureml.automl.runtime.onnx_convert import OnnxConverter\n",
        "from azureml.core.model import Model\n",
        "from azureml.core import Environment\n",
        "from azureml.core.model import InferenceConfig\n",
        "from azureml.core.webservice import AciWebservice\n",
        "from azureml.core.webservice import Webservice"
      ]
    },
    {
      "cell_type": "markdown",
      "metadata": {
        "nteract": {
          "transient": {
            "deleting": false
          }
        }
      },
      "source": [
        "# Read in Data from Azure Data Lake"
      ]
    },
    {
      "cell_type": "code",
      "execution_count": 2,
      "metadata": {
        "tags": [
          "parameters"
        ]
      },
      "outputs": [
        {
          "data": {
            "application/vnd.livy.statement-meta+json": {
              "execution_finish_time": "2021-10-14T04:14:16.4509468Z",
              "execution_start_time": "2021-10-14T04:14:16.2931012Z",
              "livy_statement_state": "available",
              "queued_time": "2021-10-14T04:13:30.7669948Z",
              "session_id": 35,
              "session_start_time": null,
              "spark_pool": "spark1",
              "state": "finished",
              "statement_id": 2
            },
            "text/plain": [
              "StatementMeta(spark1, 35, 2, Finished, Available)"
            ]
          },
          "metadata": {},
          "output_type": "display_data"
        }
      ],
      "source": [
        "data_lake_account_name = '' # Synapse Workspace ADLS\n",
        "file_system_name = 'data'\n",
        "table_name = \"c360_data.prepareddata\"\n",
        "\n",
        "#AML workspace details\n",
        "subscription_id = \"\" \n",
        "resource_group = \"\" \n",
        "workspace_name = \"\" "
      ]
    },
    {
      "cell_type": "code",
      "execution_count": 3,
      "metadata": {},
      "outputs": [
        {
          "data": {
            "application/vnd.livy.statement-meta+json": {
              "execution_finish_time": "2021-10-14T04:14:21.8115998Z",
              "execution_start_time": "2021-10-14T04:14:16.5333025Z",
              "livy_statement_state": "available",
              "queued_time": "2021-10-14T04:13:30.7700323Z",
              "session_id": 35,
              "session_start_time": null,
              "spark_pool": "spark1",
              "state": "finished",
              "statement_id": 3
            },
            "text/plain": [
              "StatementMeta(spark1, 35, 3, Finished, Available)"
            ]
          },
          "metadata": {},
          "output_type": "display_data"
        }
      ],
      "source": [
        "from azureml.core import Workspace\n",
        "ws = Workspace(workspace_name = workspace_name,\n",
        "               subscription_id = subscription_id,\n",
        "               resource_group = resource_group)          "
      ]
    },
    {
      "cell_type": "code",
      "execution_count": 4,
      "metadata": {
        "jupyter": {
          "outputs_hidden": false,
          "source_hidden": false
        },
        "nteract": {
          "transient": {
            "deleting": false
          }
        }
      },
      "outputs": [
        {
          "data": {
            "application/vnd.livy.statement-meta+json": {
              "execution_finish_time": "2021-10-14T04:14:46.7453038Z",
              "execution_start_time": "2021-10-14T04:14:21.8990651Z",
              "livy_statement_state": "available",
              "queued_time": "2021-10-14T04:13:30.7722894Z",
              "session_id": 35,
              "session_start_time": null,
              "spark_pool": "spark1",
              "state": "finished",
              "statement_id": 4
            },
            "text/plain": [
              "StatementMeta(spark1, 35, 4, Finished, Available)"
            ]
          },
          "metadata": {},
          "output_type": "display_data"
        },
        {
          "name": "stdout",
          "output_type": "stream",
          "text": [
            "+---------+-----+\n",
            "|isRenewed|count|\n",
            "+---------+-----+\n",
            "|        Y| 1218|\n",
            "|        N|  594|\n",
            "+---------+-----+"
          ]
        }
      ],
      "source": [
        "sql_str = sql_str = '''SELECT cid ,pid ,uid ,InitialLeaseTerm ,(InitialLeaseTerm + ifnull((num_renewals * avg_renewal_leaseterm),0)) as TotalLeaseTerm,isRenewed,\n",
        "WO_AirConditioning ,WO_AirDuctsorVents ,WO_CabinetDoors ,WO_Cabinets ,WO_Carpet ,\n",
        "WO_Ceiling ,WO_CeilingFan ,WO_CleanUnit ,WO_Cleaning ,WO_Dishwasher ,WO_DoorRepairorReplace ,WO_Doorbell ,\n",
        "WO_Drain ,WO_Dryer ,WO_Faucet ,WO_FilterReplacement ,WO_GarageRemote ,WO_GarbageDisposal ,WO_Heating ,WO_LightBulbs ,\n",
        "WO_LightFixture ,WO_LockorExteriorDoor ,WO_LockorInteriorDoor ,WO_Microwave ,WO_Other ,WO_Outlets ,WO_Paint ,WO_PestControl ,\n",
        "WO_Refrigerator ,WO_ShelvesorDrawers ,WO_ShowerHead ,WO_Sink ,WO_SinkStopper ,WO_SmokeDetector ,WO_StoveorOven ,WO_Switches ,\n",
        "WO_Thermostat ,WO_Toilet ,WO_TowelBar ,WO_TrashRemoval ,WO_TuborShower ,WO_UnderSink ,WO_Walls ,WO_Washer ,WO_Windows ,\n",
        "Movein_Easeofprocess ,Movein_OverallSatisfaction ,Movein_StaffCommunication ,Movein_StaffCourtesy ,Movein_StaffProfessionalism ,\n",
        "Renewal_ConditionofProperty ,Renewal_MaintenanceOverallSatisfaction ,Renewal_ManagementCommunication ,Renewal_ManagementCourtesy ,\n",
        "Renewal_ManagementProblemResolution ,Renewal_ManagementProfessionalism ,Renewal_OverallSatisfaction FROM c360_data.prepareddata\n",
        "where isMovedOut = \\'Y\\'\n",
        "'''\n",
        "df_train = spark.sql(sql_str)\n",
        "\n",
        "# fill null rows with 'N' for label \n",
        "df_train = df_train.na.fill(value='N', subset=['isRenewed'])\n",
        "\n",
        "df_train.groupby('isRenewed').count().show(5)\n",
        "\n",
        "df_train_pd = df_train.toPandas()\n",
        "drop_cols = ['cid', 'pid', 'uid']\n",
        "df_train_pd = df_train_pd.drop(drop_cols, axis=1)"
      ]
    },
    {
      "cell_type": "code",
      "execution_count": 5,
      "metadata": {
        "jupyter": {
          "outputs_hidden": false,
          "source_hidden": false
        },
        "nteract": {
          "transient": {
            "deleting": false
          }
        }
      },
      "outputs": [
        {
          "data": {
            "application/vnd.livy.statement-meta+json": {
              "execution_finish_time": "2021-10-14T04:16:03.0067837Z",
              "execution_start_time": "2021-10-14T04:14:46.8332982Z",
              "livy_statement_state": "available",
              "queued_time": "2021-10-14T04:13:30.7736353Z",
              "session_id": 35,
              "session_start_time": null,
              "spark_pool": "spark1",
              "state": "finished",
              "statement_id": 5
            },
            "text/plain": [
              "StatementMeta(spark1, 35, 5, Finished, Available)"
            ]
          },
          "metadata": {},
          "output_type": "display_data"
        },
        {
          "name": "stdout",
          "output_type": "stream",
          "text": [
            "Running on local machine. Note that local runs always run synchronously even if you use the parameter 'show_output=False'\n",
            "Using default datastore for uploads"
          ]
        }
      ],
      "source": [
        "from azureml.core.experiment import Experiment\n",
        "from azureml.train.automl.run import AutoMLRun\n",
        "from azureml.train.automl import AutoMLConfig\n",
        "\n",
        "##run only once\n",
        "experimentname = 'Lease-Renewal-Experiment'\n",
        "experiment = Experiment(ws, experimentname)\n",
        "\n",
        "automl_classifier_config = AutoMLConfig(\n",
        "        task='classification', \n",
        "        enable_early_stopping = True,       \n",
        "        experiment_timeout_minutes=15,\n",
        "        iterations=2,\n",
        "        primary_metric='AUC_weighted',\n",
        "        training_data= df_train_pd,\n",
        "        #spark_context=sc,\n",
        "        #compute = 'local',\n",
        "        label_column_name='isRenewed',\n",
        "        n_cross_validations=5,\n",
        "        model_explainability=True,\n",
        "        enable_onnx_compatible_models=True,\n",
        "        enable_voting_ensemble=False,\n",
        "        enable_stack_ensemble=False\n",
        "        )\n",
        "local_run = experiment.submit(automl_classifier_config, show_output=False)"
      ]
    },
    {
      "cell_type": "code",
      "execution_count": 6,
      "metadata": {
        "jupyter": {
          "outputs_hidden": false,
          "source_hidden": false
        },
        "nteract": {
          "transient": {
            "deleting": false
          }
        }
      },
      "outputs": [
        {
          "data": {
            "application/vnd.livy.statement-meta+json": {
              "execution_finish_time": "2021-10-14T04:16:04.9042182Z",
              "execution_start_time": "2021-10-14T04:16:03.1024312Z",
              "livy_statement_state": "available",
              "queued_time": "2021-10-14T04:13:30.7749016Z",
              "session_id": 35,
              "session_start_time": null,
              "spark_pool": "spark1",
              "state": "finished",
              "statement_id": 6
            },
            "text/plain": [
              "StatementMeta(spark1, 35, 6, Finished, Available)"
            ]
          },
          "metadata": {},
          "output_type": "display_data"
        },
        {
          "name": "stdout",
          "output_type": "stream",
          "text": [
            "Registering model lease_renewal_model"
          ]
        }
      ],
      "source": [
        "from azureml.core.experiment import Experiment\n",
        "from azureml.core.workspace import Workspace\n",
        "from azureml.train.automl.run import AutoMLRun\n",
        "from azureml.train.automl import AutoMLConfig\n",
        "from azureml.core.model import Model\n",
        "import joblib\n",
        "\n",
        "# get experiment run, get the best model and register\n",
        "experimentname = 'Lease-Renewal-Experiment'\n",
        "\n",
        "for automl_run in ws.experiments[experimentname].get_runs():\n",
        "    best_run, fitted_model = automl_run.get_output()  # We are taking the first run. You can update this if you like to take a different run\n",
        "    break\n",
        "\n",
        "#save the model to a local file\n",
        "model_path = 'lease_renewal_model'\n",
        "joblib.dump(fitted_model, model_path)\n",
        "\n",
        "model_name = \"lease_renewal_model\"\n",
        "registered_model = Model.register(model_path = model_path, # this points to a local file\n",
        "                       model_name = model_name, # name the model is registered as\n",
        "                       tags = {'type': \"classification\"}, \n",
        "                       description = \"Lease Renewal Classifier\", \n",
        "                       workspace = ws)"
      ]
    }
  ],
  "metadata": {
    "kernel_info": {
      "name": "synapse_pyspark"
    },
    "kernelspec": {
      "display_name": "Synapse PySpark",
      "language": "Python",
      "name": "synapse_pyspark"
    },
    "language_info": {
      "name": "python"
    },
    "save_output": true,
    "synapse_widget": {
      "state": {},
      "version": "0.1"
    }
  },
  "nbformat": 4,
  "nbformat_minor": 2
}
