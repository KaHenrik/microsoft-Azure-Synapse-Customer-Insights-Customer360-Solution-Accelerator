{
  "nbformat": 4,
  "nbformat_minor": 2,
  "cells": [
    {
      "cell_type": "markdown",
      "metadata": {
        "nteract": {
          "transient": {
            "deleting": false
          }
        }
      },
      "source": [
        "Copyright (c) Microsoft Corporation.\r\n",
        "\r\n",
        "Licensed under the MIT License."
      ]
    },
    {
      "cell_type": "markdown",
      "metadata": {
        "nteract": {
          "transient": {
            "deleting": false
          }
        }
      },
      "source": [
        "# Library Imports"
      ]
    },
    {
      "cell_type": "code",
      "execution_count": null,
      "outputs": [],
      "metadata": {
        "jupyter": {
          "source_hidden": false,
          "outputs_hidden": false
        },
        "nteract": {
          "transient": {
            "deleting": false
          }
        }
      },
      "source": [
        "import azureml.core\r\n",
        "#print(\"SDK Version:\", azureml.core.VERSION)\r\n",
        "from azureml.core.experiment import Experiment\r\n",
        "from azureml.core.workspace import Workspace\r\n",
        "from azureml.train.automl.run import AutoMLRun\r\n",
        "from azureml.train.automl import AutoMLConfig\r\n",
        "from azureml.automl.runtime.onnx_convert import OnnxConverter\r\n",
        "from azureml.core.model import Model\r\n",
        "from azureml.core import Environment\r\n",
        "from azureml.core.model import InferenceConfig\r\n",
        "from azureml.core.webservice import AciWebservice\r\n",
        "from azureml.core.webservice import Webservice"
      ]
    },
    {
      "cell_type": "markdown",
      "metadata": {
        "nteract": {
          "transient": {
            "deleting": false
          }
        }
      },
      "source": [
        "# Read in Data from Azure Data Lake"
      ]
    },
    {
      "cell_type": "code",
      "execution_count": null,
      "outputs": [],
      "metadata": {
        "tags": [
          "parameters"
        ]
      },
      "source": [
        "data_lake_account_name = ''\n",
        "file_system_name = 'data'\n",
        "table_name = \"c360_data.prepareddata\"\n",
        "\n",
        "\n",
        "subscription_id = \"\" \n",
        "resource_group = \"\" \n",
        "workspace_name = \"\" \n"
      ]
    },
    {
      "cell_type": "code",
      "execution_count": null,
      "outputs": [],
      "metadata": {},
      "source": [
        "from azureml.core import Workspace\n",
        "ws = Workspace(workspace_name = workspace_name,\n",
        "               subscription_id = subscription_id,\n",
        "               resource_group = resource_group)          "
      ]
    },
    {
      "cell_type": "code",
      "execution_count": null,
      "outputs": [],
      "metadata": {
        "diagram": {
          "activateDiagramType": 1,
          "chartConfig": {
            "category": "bar",
            "keys": [
              "IsTransfer"
            ],
            "values": [
              "InitialLeaseTerm"
            ],
            "yLabel": "InitialLeaseTerm",
            "xLabel": "IsTransfer",
            "aggregation": "SUM",
            "aggByBackend": false
          },
          "isSummary": false,
          "previewData": {
            "filter": null
          },
          "isSql": false
        }
      },
      "source": [
        "sql_str = '''SELECT cid ,pid ,uid ,InitialLeaseTerm ,(InitialLeaseTerm + ifnull((num_renewals * avg_renewal_leaseterm),0)) as TotalLeaseTerm,isRenewed,\n",
        "WO_AirConditioning ,WO_AirDuctsorVents ,WO_CabinetDoors ,WO_Cabinets ,WO_Carpet ,\n",
        "WO_Ceiling ,WO_CeilingFan ,WO_CleanUnit ,WO_Cleaning ,WO_Dishwasher ,WO_DoorRepairorReplace ,WO_Doorbell ,\n",
        "WO_Drain ,WO_Dryer ,WO_Faucet ,WO_FilterReplacement ,WO_GarageRemote ,WO_GarbageDisposal ,WO_Heating ,WO_LightBulbs ,\n",
        "WO_LightFixture ,WO_LockorExteriorDoor ,WO_LockorInteriorDoor ,WO_Microwave ,WO_Other ,WO_Outlets ,WO_Paint ,WO_PestControl ,\n",
        "WO_Refrigerator ,WO_ShelvesorDrawers ,WO_ShowerHead ,WO_Sink ,WO_SinkStopper ,WO_SmokeDetector ,WO_StoveorOven ,WO_Switches ,\n",
        "WO_Thermostat ,WO_Toilet ,WO_TowelBar ,WO_TrashRemoval ,WO_TuborShower ,WO_UnderSink ,WO_Walls ,WO_Washer ,WO_Windows ,\n",
        "Movein_Easeofprocess ,Movein_OverallSatisfaction ,Movein_StaffCommunication ,Movein_StaffCourtesy ,Movein_StaffProfessionalism ,\n",
        "Renewal_ConditionofProperty ,Renewal_MaintenanceOverallSatisfaction ,Renewal_ManagementCommunication ,Renewal_ManagementCourtesy ,\n",
        "Renewal_ManagementProblemResolution ,Renewal_ManagementProfessionalism ,Renewal_OverallSatisfaction FROM c360_data.prepareddata\n",
        "where isMovedOut = \\'Y\\'\n",
        "'''\n",
        "df_train = spark.sql(sql_str)\n",
        "\n",
        "# fill null rows with 'N' for label\n",
        "df_train = df_train.na.fill(value='N',subset=[\"isRenewed\"])\n",
        "\n",
        "df_train.groupby('isRenewed').count().show(5)\n",
        "#display(df_train)\n",
        "\n",
        "# display(df_train.filter(col(\"isRenewed\").isNull()))\n",
        "\n",
        "df_train_pd = df_train.toPandas()\n",
        "drop_cols = ['cid','pid','uid']\n",
        "df_train_pd = df_train_pd.drop(drop_cols, axis=1)"
      ]
    },
    {
      "cell_type": "code",
      "execution_count": null,
      "outputs": [],
      "metadata": {},
      "source": [
        "from azureml.core.experiment import Experiment\n",
        "from azureml.train.automl.run import AutoMLRun\n",
        "from azureml.train.automl import AutoMLConfig\n",
        "\n",
        "##run only once\n",
        "experimentname = 'Lease-Renewal-Exp'\n",
        "experiment = Experiment(ws, experimentname)\n",
        "\n",
        "automl_classifier_config = AutoMLConfig(\n",
        "        task='classification', \n",
        "        enable_early_stopping = True,       \n",
        "        experiment_timeout_minutes=15,\n",
        "        iterations=2,\n",
        "        primary_metric='AUC_weighted',\n",
        "        training_data= df_train_pd,\n",
        "        #spark_context=sc,\n",
        "        #compute = 'local',\n",
        "        label_column_name='isRenewed',\n",
        "        n_cross_validations=5,\n",
        "        model_explainability=True,\n",
        "        enable_onnx_compatible_models=True,\n",
        "        enable_voting_ensemble=False,\n",
        "        enable_stack_ensemble=False\n",
        "        )\n",
        "local_run = experiment.submit(automl_classifier_config, show_output=False)"
      ]
    },
    {
      "cell_type": "code",
      "execution_count": null,
      "outputs": [],
      "metadata": {},
      "source": [
        "\n",
        "from azureml.core.experiment import Experiment\n",
        "from azureml.core.workspace import Workspace\n",
        "from azureml.train.automl.run import AutoMLRun\n",
        "from azureml.train.automl import AutoMLConfig\n",
        "from azureml.core.model import Model\n",
        "import joblib\n",
        "\n",
        "# get experiment run, get the best model and register\n",
        "experimentname = 'Lease-Renewal-Exp'\n",
        "\n",
        "\n",
        "for automl_run in ws.experiments[experimentname].get_runs():\n",
        "    best_run, fitted_model = automl_run.get_output()  # We are taking the first run. You can update this if you like to take a different run\n",
        "    break\n",
        "\n",
        "#save the model to a local file\n",
        "model_path = 'lease_renewal_model'\n",
        "joblib.dump(fitted_model, model_path)\n",
        "\n",
        "model_name = \"lease_renewal_model\"\n",
        "registered_model = Model.register(model_path = model_path, # this points to a local file\n",
        "                       model_name = model_name, # name the model is registered as\n",
        "                       tags = {'type': \"classification\"}, \n",
        "                       description = \"Lease Renewal Classifier\", \n",
        "                       workspace = ws)"
      ]
    }
  ],
  "metadata": {
    "save_output": true,
    "kernelspec": {
      "name": "synapse_pyspark",
      "display_name": "Synapse PySpark"
    },
    "language_info": {
      "name": "python"
    },
    "synapse_widget": {
      "version": "0.1",
      "state": {}
    }
  }
}