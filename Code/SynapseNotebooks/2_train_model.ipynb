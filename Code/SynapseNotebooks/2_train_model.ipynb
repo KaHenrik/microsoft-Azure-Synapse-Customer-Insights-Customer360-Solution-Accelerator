{
  "cells": [
    {
      "cell_type": "markdown",
      "source": [
        "Copyright (c) Microsoft Corporation.\r\n",
        "\r\n",
        "Licensed under the MIT License."
      ],
      "metadata": {
        "nteract": {
          "transient": {
            "deleting": false
          }
        }
      }
    },
    {
      "cell_type": "markdown",
      "source": [
        "# Library Imports"
      ],
      "metadata": {
        "nteract": {
          "transient": {
            "deleting": false
          }
        }
      }
    },
    {
      "cell_type": "code",
      "source": [
        "import azureml.core\n",
        "#print(\"SDK Version:\", azureml.core.VERSION)\n",
        "from azureml.core.experiment import Experiment\n",
        "from azureml.core.workspace import Workspace\n",
        "from azureml.train.automl.run import AutoMLRun\n",
        "from azureml.train.automl import AutoMLConfig\n",
        "from azureml.automl.runtime.onnx_convert import OnnxConverter\n",
        "from azureml.core.model import Model\n",
        "from azureml.core import Environment\n",
        "from azureml.core.model import InferenceConfig\n",
        "from azureml.core.webservice import AciWebservice\n",
        "from azureml.core.webservice import Webservice"
      ],
      "outputs": [
        {
          "output_type": "display_data",
          "data": {
            "application/vnd.livy.statement-meta+json": {
              "spark_pool": "spark1",
              "session_id": 35,
              "statement_id": 1,
              "state": "finished",
              "livy_statement_state": "available",
              "queued_time": "2021-10-14T04:13:30.7608576Z",
              "session_start_time": "2021-10-14T04:13:30.7940145Z",
              "execution_start_time": "2021-10-14T04:14:03.6278891Z",
              "execution_finish_time": "2021-10-14T04:14:16.2108931Z"
            },
            "text/plain": "StatementMeta(spark1, 35, 1, Finished, Available)"
          },
          "metadata": {}
        }
      ],
      "execution_count": 1,
      "metadata": {
        "jupyter": {
          "source_hidden": false,
          "outputs_hidden": false
        },
        "nteract": {
          "transient": {
            "deleting": false
          }
        }
      }
    },
    {
      "cell_type": "markdown",
      "source": [
        "# Read in Data from Azure Data Lake"
      ],
      "metadata": {
        "nteract": {
          "transient": {
            "deleting": false
          }
        }
      }
    },
    {
      "cell_type": "code",
      "source": [
        "data_lake_account_name = ''\n",
        "file_system_name = 'data'\n",
        "table_name = \"c360_data.prepareddata\"\n",
        "\n",
        "#AML workspace details\n",
        "subscription_id = \"\" \n",
        "resource_group = \"\" \n",
        "workspace_name = \"\" "
      ],
      "outputs": [
        {
          "output_type": "display_data",
          "data": {
            "application/vnd.livy.statement-meta+json": {
              "spark_pool": "spark1",
              "session_id": 35,
              "statement_id": 2,
              "state": "finished",
              "livy_statement_state": "available",
              "queued_time": "2021-10-14T04:13:30.7669948Z",
              "session_start_time": null,
              "execution_start_time": "2021-10-14T04:14:16.2931012Z",
              "execution_finish_time": "2021-10-14T04:14:16.4509468Z"
            },
            "text/plain": "StatementMeta(spark1, 35, 2, Finished, Available)"
          },
          "metadata": {}
        }
      ],
      "execution_count": 2,
      "metadata": {
        "tags": [
          "parameters"
        ]
      }
    },
    {
      "cell_type": "code",
      "source": [
        "from azureml.core import Workspace\n",
        "ws = Workspace(workspace_name = workspace_name,\n",
        "               subscription_id = subscription_id,\n",
        "               resource_group = resource_group)          "
      ],
      "outputs": [
        {
          "output_type": "display_data",
          "data": {
            "application/vnd.livy.statement-meta+json": {
              "spark_pool": "spark1",
              "session_id": 35,
              "statement_id": 3,
              "state": "finished",
              "livy_statement_state": "available",
              "queued_time": "2021-10-14T04:13:30.7700323Z",
              "session_start_time": null,
              "execution_start_time": "2021-10-14T04:14:16.5333025Z",
              "execution_finish_time": "2021-10-14T04:14:21.8115998Z"
            },
            "text/plain": "StatementMeta(spark1, 35, 3, Finished, Available)"
          },
          "metadata": {}
        }
      ],
      "execution_count": 3,
      "metadata": {}
    },
    {
      "cell_type": "code",
      "source": [
        "sql_str = sql_str = '''SELECT cid ,pid ,uid ,InitialLeaseTerm ,(InitialLeaseTerm + ifnull((num_renewals * avg_renewal_leaseterm),0)) as TotalLeaseTerm,isRenewed,\r\n",
        "WO_AirConditioning ,WO_AirDuctsorVents ,WO_CabinetDoors ,WO_Cabinets ,WO_Carpet ,\r\n",
        "WO_Ceiling ,WO_CeilingFan ,WO_CleanUnit ,WO_Cleaning ,WO_Dishwasher ,WO_DoorRepairorReplace ,WO_Doorbell ,\r\n",
        "WO_Drain ,WO_Dryer ,WO_Faucet ,WO_FilterReplacement ,WO_GarageRemote ,WO_GarbageDisposal ,WO_Heating ,WO_LightBulbs ,\r\n",
        "WO_LightFixture ,WO_LockorExteriorDoor ,WO_LockorInteriorDoor ,WO_Microwave ,WO_Other ,WO_Outlets ,WO_Paint ,WO_PestControl ,\r\n",
        "WO_Refrigerator ,WO_ShelvesorDrawers ,WO_ShowerHead ,WO_Sink ,WO_SinkStopper ,WO_SmokeDetector ,WO_StoveorOven ,WO_Switches ,\r\n",
        "WO_Thermostat ,WO_Toilet ,WO_TowelBar ,WO_TrashRemoval ,WO_TuborShower ,WO_UnderSink ,WO_Walls ,WO_Washer ,WO_Windows ,\r\n",
        "Movein_Easeofprocess ,Movein_OverallSatisfaction ,Movein_StaffCommunication ,Movein_StaffCourtesy ,Movein_StaffProfessionalism ,\r\n",
        "Renewal_ConditionofProperty ,Renewal_MaintenanceOverallSatisfaction ,Renewal_ManagementCommunication ,Renewal_ManagementCourtesy ,\r\n",
        "Renewal_ManagementProblemResolution ,Renewal_ManagementProfessionalism ,Renewal_OverallSatisfaction FROM c360_data.prepareddata\r\n",
        "where isMovedOut = \\'Y\\'\r\n",
        "'''\r\n",
        "df_train = spark.sql(sql_str)\r\n",
        "\r\n",
        "# fill null rows with 'N' for label \r\n",
        "df_train = df_train.na.fill(value='N', subset=['isRenewed'])\r\n",
        "\r\n",
        "df_train.groupby('isRenewed').count().show(5)\r\n",
        "\r\n",
        "df_train_pd = df_train.toPandas()\r\n",
        "drop_cols = ['cid', 'pid', 'uid']\r\n",
        "df_train_pd = df_train_pd.drop(drop_cols, axis=1)"
      ],
      "outputs": [
        {
          "output_type": "display_data",
          "data": {
            "application/vnd.livy.statement-meta+json": {
              "spark_pool": "spark1",
              "session_id": 35,
              "statement_id": 4,
              "state": "finished",
              "livy_statement_state": "available",
              "queued_time": "2021-10-14T04:13:30.7722894Z",
              "session_start_time": null,
              "execution_start_time": "2021-10-14T04:14:21.8990651Z",
              "execution_finish_time": "2021-10-14T04:14:46.7453038Z"
            },
            "text/plain": "StatementMeta(spark1, 35, 4, Finished, Available)"
          },
          "metadata": {}
        },
        {
          "output_type": "stream",
          "name": "stdout",
          "text": [
            "+---------+-----+\n|isRenewed|count|\n+---------+-----+\n|        Y| 1218|\n|        N|  594|\n+---------+-----+"
          ]
        }
      ],
      "execution_count": 4,
      "metadata": {
        "jupyter": {
          "source_hidden": false,
          "outputs_hidden": false
        },
        "nteract": {
          "transient": {
            "deleting": false
          }
        }
      }
    },
    {
      "cell_type": "code",
      "source": [
        "from azureml.core.experiment import Experiment\r\n",
        "from azureml.train.automl.run import AutoMLRun\r\n",
        "from azureml.train.automl import AutoMLConfig\r\n",
        "\r\n",
        "##run only once\r\n",
        "experimentname = 'Lease-Renewal-Experiment'\r\n",
        "experiment = Experiment(ws, experimentname)\r\n",
        "\r\n",
        "automl_classifier_config = AutoMLConfig(\r\n",
        "        task='classification', \r\n",
        "        enable_early_stopping = True,       \r\n",
        "        experiment_timeout_minutes=15,\r\n",
        "        iterations=2,\r\n",
        "        primary_metric='AUC_weighted',\r\n",
        "        training_data= df_train_pd,\r\n",
        "        #spark_context=sc,\r\n",
        "        #compute = 'local',\r\n",
        "        label_column_name='isRenewed',\r\n",
        "        n_cross_validations=5,\r\n",
        "        model_explainability=True,\r\n",
        "        enable_onnx_compatible_models=True,\r\n",
        "        enable_voting_ensemble=False,\r\n",
        "        enable_stack_ensemble=False\r\n",
        "        )\r\n",
        "local_run = experiment.submit(automl_classifier_config, show_output=False)"
      ],
      "outputs": [
        {
          "output_type": "display_data",
          "data": {
            "application/vnd.livy.statement-meta+json": {
              "spark_pool": "spark1",
              "session_id": 35,
              "statement_id": 5,
              "state": "finished",
              "livy_statement_state": "available",
              "queued_time": "2021-10-14T04:13:30.7736353Z",
              "session_start_time": null,
              "execution_start_time": "2021-10-14T04:14:46.8332982Z",
              "execution_finish_time": "2021-10-14T04:16:03.0067837Z"
            },
            "text/plain": "StatementMeta(spark1, 35, 5, Finished, Available)"
          },
          "metadata": {}
        },
        {
          "output_type": "stream",
          "name": "stdout",
          "text": [
            "Running on local machine. Note that local runs always run synchronously even if you use the parameter 'show_output=False'\nUsing default datastore for uploads"
          ]
        }
      ],
      "execution_count": 5,
      "metadata": {
        "jupyter": {
          "source_hidden": false,
          "outputs_hidden": false
        },
        "nteract": {
          "transient": {
            "deleting": false
          }
        }
      }
    },
    {
      "cell_type": "code",
      "source": [
        "from azureml.core.experiment import Experiment\r\n",
        "from azureml.core.workspace import Workspace\r\n",
        "from azureml.train.automl.run import AutoMLRun\r\n",
        "from azureml.train.automl import AutoMLConfig\r\n",
        "from azureml.core.model import Model\r\n",
        "import joblib\r\n",
        "\r\n",
        "# get experiment run, get the best model and register\r\n",
        "experimentname = 'Lease-Renewal-Experiment'\r\n",
        "\r\n",
        "for automl_run in ws.experiments[experimentname].get_runs():\r\n",
        "    best_run, fitted_model = automl_run.get_output()  # We are taking the first run. You can update this if you like to take a different run\r\n",
        "    break\r\n",
        "\r\n",
        "#save the model to a local file\r\n",
        "model_path = 'lease_renewal_model'\r\n",
        "joblib.dump(fitted_model, model_path)\r\n",
        "\r\n",
        "model_name = \"lease_renewal_model\"\r\n",
        "registered_model = Model.register(model_path = model_path, # this points to a local file\r\n",
        "                       model_name = model_name, # name the model is registered as\r\n",
        "                       tags = {'type': \"classification\"}, \r\n",
        "                       description = \"Lease Renewal Classifier\", \r\n",
        "                       workspace = ws)"
      ],
      "outputs": [
        {
          "output_type": "display_data",
          "data": {
            "application/vnd.livy.statement-meta+json": {
              "spark_pool": "spark1",
              "session_id": 35,
              "statement_id": 6,
              "state": "finished",
              "livy_statement_state": "available",
              "queued_time": "2021-10-14T04:13:30.7749016Z",
              "session_start_time": null,
              "execution_start_time": "2021-10-14T04:16:03.1024312Z",
              "execution_finish_time": "2021-10-14T04:16:04.9042182Z"
            },
            "text/plain": "StatementMeta(spark1, 35, 6, Finished, Available)"
          },
          "metadata": {}
        },
        {
          "output_type": "stream",
          "name": "stdout",
          "text": [
            "Registering model lease_renewal_model"
          ]
        }
      ],
      "execution_count": 6,
      "metadata": {
        "jupyter": {
          "source_hidden": false,
          "outputs_hidden": false
        },
        "nteract": {
          "transient": {
            "deleting": false
          }
        }
      }
    }
  ],
  "metadata": {
    "kernelspec": {
      "name": "synapse_pyspark",
      "language": "Python",
      "display_name": "Synapse PySpark"
    },
    "language_info": {
      "name": "python"
    },
    "kernel_info": {
      "name": "synapse_pyspark"
    },
    "save_output": true,
    "synapse_widget": {
      "version": "0.1",
      "state": {}
    }
  },
  "nbformat": 4,
  "nbformat_minor": 2
}