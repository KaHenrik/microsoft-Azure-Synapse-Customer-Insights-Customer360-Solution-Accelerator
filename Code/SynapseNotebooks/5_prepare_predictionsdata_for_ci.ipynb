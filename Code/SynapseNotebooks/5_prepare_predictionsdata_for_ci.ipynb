{
  "cells": [
    {
      "cell_type": "markdown",
      "metadata": {
        "nteract": {
          "transient": {
            "deleting": false
          }
        }
      },
      "source": [
        "Copyright (c) Microsoft Corporation.\n",
        "\n",
        "Licensed under the MIT License."
      ]
    },
    {
      "cell_type": "markdown",
      "metadata": {
        "nteract": {
          "transient": {
            "deleting": false
          }
        }
      },
      "source": [
        "# Library Imports"
      ]
    },
    {
      "cell_type": "code",
      "execution_count": 1,
      "metadata": {
        "jupyter": {
          "outputs_hidden": false,
          "source_hidden": false
        },
        "nteract": {
          "transient": {
            "deleting": false
          }
        }
      },
      "outputs": [
        {
          "data": {
            "application/vnd.livy.statement-meta+json": {
              "execution_finish_time": "2021-10-14T04:23:16.4448961Z",
              "execution_start_time": "2021-10-14T04:23:16.2900702Z",
              "livy_statement_state": "available",
              "queued_time": "2021-10-14T04:22:43.285021Z",
              "session_id": 38,
              "session_start_time": "2021-10-14T04:22:43.31479Z",
              "spark_pool": "spark1",
              "state": "finished",
              "statement_id": 1
            },
            "text/plain": [
              "StatementMeta(spark1, 38, 1, Finished, Available)"
            ]
          },
          "metadata": {},
          "output_type": "display_data"
        }
      ],
      "source": [
        "from pyspark.sql.functions import *\n",
        "from pyspark.sql.types import *\n",
        "from notebookutils import mssparkutils\n",
        "import json"
      ]
    },
    {
      "cell_type": "markdown",
      "metadata": {
        "nteract": {
          "transient": {
            "deleting": false
          }
        }
      },
      "source": [
        "# Read in Data from Azure Data Lake"
      ]
    },
    {
      "cell_type": "code",
      "execution_count": 2,
      "metadata": {
        "collapsed": true,
        "jupyter": {
          "outputs_hidden": false,
          "source_hidden": false
        },
        "nteract": {
          "transient": {
            "deleting": false
          }
        }
      },
      "outputs": [
        {
          "data": {
            "application/vnd.livy.statement-meta+json": {
              "execution_finish_time": "2021-10-14T04:23:16.6921014Z",
              "execution_start_time": "2021-10-14T04:23:16.5366136Z",
              "livy_statement_state": "available",
              "queued_time": "2021-10-14T04:22:43.2864567Z",
              "session_id": 38,
              "session_start_time": null,
              "spark_pool": "spark1",
              "state": "finished",
              "statement_id": 2
            },
            "text/plain": [
              "StatementMeta(spark1, 38, 2, Finished, Available)"
            ]
          },
          "metadata": {},
          "output_type": "display_data"
        }
      ],
      "source": [
        "data_lake_account_name = '' # Synapse Workspace ADLS\n",
        "file_system_name = 'data'\n",
        "synapse_workspace_name = ''"
      ]
    },
    {
      "cell_type": "code",
      "execution_count": 3,
      "metadata": {
        "collapsed": true,
        "jupyter": {
          "outputs_hidden": false,
          "source_hidden": false
        },
        "nteract": {
          "transient": {
            "deleting": false
          }
        }
      },
      "outputs": [
        {
          "data": {
            "application/vnd.livy.statement-meta+json": {
              "execution_finish_time": "2021-10-14T04:23:23.6224451Z",
              "execution_start_time": "2021-10-14T04:23:16.7744555Z",
              "livy_statement_state": "available",
              "queued_time": "2021-10-14T04:22:43.2879706Z",
              "session_id": 38,
              "session_start_time": null,
              "spark_pool": "spark1",
              "state": "finished",
              "statement_id": 3
            },
            "text/plain": [
              "StatementMeta(spark1, 38, 3, Finished, Available)"
            ]
          },
          "metadata": {},
          "output_type": "display_data"
        },
        {
          "name": "stdout",
          "output_type": "stream",
          "text": [
            "Database already exists"
          ]
        }
      ],
      "source": [
        "try:\n",
        "    spark.sql(\"CREATE DATABASE c360_data\")\n",
        "except:\n",
        "    print(\"Database already exists\")\n"
      ]
    },
    {
      "cell_type": "code",
      "execution_count": 4,
      "metadata": {
        "collapsed": true,
        "jupyter": {
          "outputs_hidden": false,
          "source_hidden": false
        },
        "nteract": {
          "transient": {
            "deleting": false
          }
        }
      },
      "outputs": [
        {
          "data": {
            "application/vnd.livy.statement-meta+json": {
              "execution_finish_time": "2021-10-14T04:23:23.8530659Z",
              "execution_start_time": "2021-10-14T04:23:23.7101066Z",
              "livy_statement_state": "available",
              "queued_time": "2021-10-14T04:22:43.2897813Z",
              "session_id": 38,
              "session_start_time": null,
              "spark_pool": "spark1",
              "state": "finished",
              "statement_id": 4
            },
            "text/plain": [
              "StatementMeta(spark1, 38, 4, Finished, Available)"
            ]
          },
          "metadata": {},
          "output_type": "display_data"
        }
      ],
      "source": [
        "id_columns = ['cid','pid','ptid','uid','utid','lid','sid','paymentid','PostCode']\n",
        "date_columns = ['DateOfBirth']"
      ]
    },
    {
      "cell_type": "code",
      "execution_count": 5,
      "metadata": {
        "collapsed": true,
        "jupyter": {
          "outputs_hidden": false,
          "source_hidden": false
        },
        "nteract": {
          "transient": {
            "deleting": false
          }
        }
      },
      "outputs": [
        {
          "data": {
            "application/vnd.livy.statement-meta+json": {
              "execution_finish_time": "2021-10-14T04:23:24.0898095Z",
              "execution_start_time": "2021-10-14T04:23:23.9405258Z",
              "livy_statement_state": "available",
              "queued_time": "2021-10-14T04:22:43.291191Z",
              "session_id": 38,
              "session_start_time": null,
              "spark_pool": "spark1",
              "state": "finished",
              "statement_id": 5
            },
            "text/plain": [
              "StatementMeta(spark1, 38, 5, Finished, Available)"
            ]
          },
          "metadata": {},
          "output_type": "display_data"
        }
      ],
      "source": [
        "def get_ci_datedefinitions():\n",
        "    definitions = []\n",
        "    d = {\n",
        "            \"traitName\": \"is.formatted\",\n",
        "            \"extendsTrait\": \"is\",\n",
        "            \"explanation\": \"a root for traits that descibe how data is formatted\"\n",
        "        }\n",
        "    definitions.append(d)\n",
        "    d = {\n",
        "            \"traitName\": \"is.formatted.dateTime\",\n",
        "            \"extendsTrait\": \"is.formatted\",\n",
        "            \"explanation\": \"DateTime data formatted as a string in ISO 8601 format\",\n",
        "            \"hasParameters\": [{\n",
        "                \"name\": \"format\",\n",
        "                \"dataType\": \"stringFormat\",\n",
        "                \"defaultValue\": \"MM/DD/YYYY hh:mm\"\n",
        "            }]\n",
        "        }\n",
        "    definitions.append(d)\n",
        "    d = {\n",
        "            \"traitName\": \"is.formatted.date\",\n",
        "            \"extendsTrait\": \"is.formatted\",\n",
        "            \"explanation\": \"Date data formatted as a string in ISO 8601 format\",\n",
        "            \"hasParameters\": [{\n",
        "                \"name\": \"format\",\n",
        "                \"dataType\": \"stringFormat\",\n",
        "                \"defaultValue\": \"MM/DD/YYYY\"\n",
        "            }]\n",
        "        }\n",
        "    definitions.append(d)\n",
        "    d = {\n",
        "            \"traitName\": \"is.formatted.time\",\n",
        "            \"extendsTrait\": \"is.formatted\",\n",
        "            \"explanation\": \"Time data formatted as a string in ISO 8601 format\",\n",
        "            \"hasParameters\": [{\n",
        "                \"name\": \"format\",\n",
        "                \"dataType\": \"stringFormat\",\n",
        "                \"defaultValue\": \"hh:mm:ss\"\n",
        "            }]\n",
        "        }\n",
        "    definitions.append(d)\n",
        "    return(definitions)\n"
      ]
    },
    {
      "cell_type": "code",
      "execution_count": 6,
      "metadata": {
        "collapsed": true,
        "jupyter": {
          "outputs_hidden": false,
          "source_hidden": false
        },
        "nteract": {
          "transient": {
            "deleting": false
          }
        }
      },
      "outputs": [
        {
          "data": {
            "application/vnd.livy.statement-meta+json": {
              "execution_finish_time": "2021-10-14T04:23:38.8453045Z",
              "execution_start_time": "2021-10-14T04:23:24.1788419Z",
              "livy_statement_state": "available",
              "queued_time": "2021-10-14T04:22:43.2925707Z",
              "session_id": 38,
              "session_start_time": null,
              "spark_pool": "spark1",
              "state": "finished",
              "statement_id": 6
            },
            "text/plain": [
              "StatementMeta(spark1, 38, 6, Finished, Available)"
            ]
          },
          "metadata": {},
          "output_type": "display_data"
        },
        {
          "data": {
            "text/plain": [
              "True"
            ]
          },
          "metadata": {},
          "output_type": "display_data"
        }
      ],
      "source": [
        "#create manifest.json\n",
        "\n",
        "filenames = ['lease_renewal_prediction']\n",
        "\n",
        "filebasepath = f'abfss://{file_system_name}@{data_lake_account_name}.dfs.core.windows.net/synapse/workspaces/{synapse_workspace_name}/warehouse/c360_data.db/'\n",
        "dfspath = 'https://'+ data_lake_account_name +'.dfs.core.windows.net/'+ file_system_name + '/synapse/workspaces/' + synapse_workspace_name + '/warehouse/c360_data.db/'\n",
        "id_columns = ['cid','pid','ptid','uid','utid','lid','sid','paymentid','CustomerId']\n",
        "curreny_columns = ['amount','RenewalPredictionScore']\n",
        "\n",
        "entities = []\n",
        "\n",
        "for filename in filenames:\n",
        "    df = spark.read.load(filebasepath + filename.lower(), format='parquet', header=True,inferSchema=True)\n",
        "    attributes = []\n",
        "    partitions = []\n",
        "    contents = []\n",
        "    for e in df.schema:\n",
        "        if e.name in id_columns:\n",
        "            edatatype = 'String'\n",
        "        elif e.name in curreny_columns:\n",
        "           edatatype = 'Double'\n",
        "        elif str(e.dataType) == 'StringType':\n",
        "            edatatype = 'String'\n",
        "        elif str(e.dataType) == 'TimestampType':\n",
        "            edatatype = 'DateTime'\n",
        "        elif str(e.dataType) == 'DateType':\n",
        "            edatatype = 'Date'\n",
        "        elif str(e.dataType) == 'IntegerType':\n",
        "            edatatype = 'Int32' #'Integer'\n",
        "        else:\n",
        "            edatatype = 'String'\n",
        "        \n",
        "\n",
        "        if edatatype != 'DateTime':\n",
        "          attr ={\n",
        "              \"name\": e.name,\n",
        "              \"dataFormat\": edatatype,\n",
        "          }\n",
        "        else:\n",
        "          attr ={\n",
        "              \"name\": e.name,\n",
        "              \"appliedTraits\": [\n",
        "                  \"is.formatted.dateTime\"\n",
        "                ],\n",
        "              \"dataFormat\": edatatype\n",
        "          }\n",
        "\n",
        "        attributes.append(attr)\n",
        "        content = {\n",
        "            \"type\" : \"attributeDefinition\",\n",
        "            \"name\" : e.name,\n",
        "            \"parent\" : filename + \"/attributeContext/\" + filename,\n",
        "            \"definition\" : \"resolvedFrom/\" + filename + \"/hasAttributes/\" + e.name,\n",
        "            \"contents\" : [\n",
        "              filename + \"/hasAttributes/\" + e.name\n",
        "            ]\n",
        "          }\n",
        "        contents.append(content)\n",
        "        #break\n",
        "\n",
        "    ent_imports = []\n",
        "    d = {\n",
        "        \"corpusPath\": '/' + filename + \".cdm.json\",\n",
        "        \"moniker\": \"resolvedFrom\"\n",
        "        }\n",
        "    ent_imports.append(d)\n",
        "\n",
        "    ent_definitions = []\n",
        "    d = {\n",
        "      \"entityName\": filename,\n",
        "      \"attributeContext\": {\n",
        "        \"type\": \"entity\",\n",
        "        \"name\": filename,\n",
        "        \"definition\": \"resolvedFrom/\" + filename,\n",
        "        \"contents\": contents\n",
        "      },\n",
        "      \"hasAttributes\": attributes,\n",
        "      \"version\": \"1.0.0.0\"\n",
        "    }\n",
        "    ent_definitions.append(d)\n",
        "    entity_model = {\"jsonSchemaSemanticVersion\": \"1.1.0\",\"imports\":ent_imports, \"definitions\":ent_definitions}\n",
        "    #print(entity_model)\n",
        "\n",
        "    \n",
        "    json_model = json.dumps(entity_model) \n",
        "\n",
        "    # convert to a dataframe\n",
        "    json_list = []\n",
        "    json_list.append(json_model)\n",
        "    df = spark.read.json(sc.parallelize(json_list))\n",
        "    #display(df)\n",
        "\n",
        "    entfilebasepath = f'abfss://{file_system_name}@{data_lake_account_name}.dfs.core.windows.net/c360data/' \n",
        "    entjsonpath = entfilebasepath + 'tempfolder'\n",
        "\n",
        "    df.coalesce(1).write.format('json').mode('overwrite').save(entjsonpath)\n",
        "    \n",
        "    # copy the model json file written in parts to a single default.manifest.cdm.json file\n",
        "    from notebookutils import mssparkutils\n",
        "    files = mssparkutils.fs.ls('/c360data/tempfolder')\n",
        "    for file1 in files:\n",
        "        if '.json' in file1.name:\n",
        "            srcfilename = '/c360data/tempfolder/' + file1.name\n",
        "            targetfilename = '/c360data/resolve/' + filename + '.cdm.json'\n",
        "            mssparkutils.fs.cp(srcfilename,targetfilename, True)\n",
        "            break\n",
        "    #delete the folder with parts file        \n",
        "    mssparkutils.fs.rm('/c360data/tempfolder',recurse=True)\n",
        "    #break\n",
        "\n",
        "\n",
        "#create the main manifest.json file\n",
        "imports = []\n",
        "entities = []\n",
        "\n",
        "for filename in filenames:\n",
        "    d = {\n",
        "      \"type\": \"LocalEntity\",\n",
        "      \"entityName\": filename,\n",
        "      \"entityPath\": \"resolve/\" + filename + '.cdm.json/' + filename,\n",
        "      \"dataPartitionPatterns\": [\n",
        "        {\n",
        "          \"name\": filename,\n",
        "          \"rootLocation\": 'workspaces/' + synapse_workspace_name + '/warehouse/c360_data.db/' + filename,\n",
        "          \"regularExpression\": \".+\\\\.parquet$\",\n",
        "          \"parameters\": [],\n",
        "          \"exhibitsTraits\": [\n",
        "            {\"traitReference\" : \"is.partition.format.parquet\"}\n",
        "          ]\n",
        "        }\n",
        "      ],\n",
        "      \"definitions\": get_ci_datedefinitions()\n",
        "    }\n",
        "    entities.append(d)\n",
        "\n",
        "manifest = {\"manifestName\": \"default\",\"entities\": entities,\"jsonSchemaSemanticVersion\": \"1.1.0\",\"imports\":imports}\n",
        "\n",
        "json_model = json.dumps(manifest) \n",
        "\n",
        "# convert to a dataframe\n",
        "json_list = []\n",
        "json_list.append(json_model)\n",
        "df = spark.read.json(sc.parallelize(json_list))\n",
        "#display(df)\n",
        "\n",
        "entfilebasepath = f'abfss://{file_system_name}@{data_lake_account_name}.dfs.core.windows.net/c360data/' \n",
        "entjsonpath = entfilebasepath + 'tempfolder'\n",
        "\n",
        "df.coalesce(1).write.format('json').mode('overwrite').save(entjsonpath)\n",
        "\n",
        "# copy the model json file written in parts to a single model.json file\n",
        "from notebookutils import mssparkutils\n",
        "files = mssparkutils.fs.ls('/c360data/tempfolder')\n",
        "for file1 in files:\n",
        "    if '.json' in file1.name:\n",
        "        srcfilename = '/c360data/tempfolder/' + file1.name\n",
        "        targetfilename = '/c360data/' + 'default.manifest.cdm.json'\n",
        "        mssparkutils.fs.cp(srcfilename,targetfilename, True)\n",
        "        break\n",
        "#delete the folder with parts file        \n",
        "mssparkutils.fs.rm('/c360data/tempfolder',recurse=True)\n"
      ]
    },
    {
      "cell_type": "code",
      "execution_count": 7,
      "metadata": {
        "collapsed": true,
        "jupyter": {
          "outputs_hidden": false,
          "source_hidden": false
        },
        "nteract": {
          "transient": {
            "deleting": false
          }
        }
      },
      "outputs": [
        {
          "data": {
            "application/vnd.livy.statement-meta+json": {
              "execution_finish_time": "2021-10-14T04:23:39.4715218Z",
              "execution_start_time": "2021-10-14T04:23:38.9465552Z",
              "livy_statement_state": "available",
              "queued_time": "2021-10-14T04:22:43.2958288Z",
              "session_id": 38,
              "session_start_time": null,
              "spark_pool": "spark1",
              "state": "finished",
              "statement_id": 7
            },
            "text/plain": [
              "StatementMeta(spark1, 38, 7, Finished, Available)"
            ]
          },
          "metadata": {},
          "output_type": "display_data"
        },
        {
          "data": {
            "text/plain": [
              "True"
            ]
          },
          "metadata": {},
          "output_type": "display_data"
        }
      ],
      "source": [
        "try:\n",
        "    mssparkutils.fs.rm('/synapse/default.manifest.cdm.json')\n",
        "    mssparkutils.fs.rm('/synapse/resolve',recurse=True)\n",
        "except:\n",
        "    pass\n",
        "    \n",
        "srcfilename = '/c360data/default.manifest.cdm.json'\n",
        "targetfilename = '/synapse/default.manifest.cdm.json'\n",
        "mssparkutils.fs.cp(srcfilename,targetfilename, True)\n",
        "\n",
        "srcfilename = '/c360data/resolve'\n",
        "targetfilename = '/synapse/resolve'\n",
        "mssparkutils.fs.cp(srcfilename,targetfilename, True)\n",
        "\n",
        "mssparkutils.fs.rm('/c360data',recurse=True)"
      ]
    }
  ],
  "metadata": {
    "kernel_info": {
      "name": "synapse_pyspark"
    },
    "kernelspec": {
      "display_name": "Synapse PySpark",
      "language": "Python",
      "name": "synapse_pyspark"
    },
    "language_info": {
      "name": "python"
    },
    "save_output": true,
    "synapse_widget": {
      "state": {},
      "version": "0.1"
    }
  },
  "nbformat": 4,
  "nbformat_minor": 2
}
