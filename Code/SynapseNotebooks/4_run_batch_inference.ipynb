{
  "cells": [
    {
      "cell_type": "markdown",
      "source": [
        "Copyright (c) Microsoft Corporation.\n",
        "\n",
        "Licensed under the MIT License."
      ],
      "metadata": {
        "nteract": {
          "transient": {
            "deleting": false
          }
        }
      }
    },
    {
      "cell_type": "markdown",
      "source": [
        "# Library Imports"
      ],
      "metadata": {
        "nteract": {
          "transient": {
            "deleting": false
          }
        }
      }
    },
    {
      "cell_type": "code",
      "source": [
        "data_lake_account_name = ''\n",
        "file_system_name = 'data'\n",
        "\n",
        "table_name = \"c360_data.preparedinferencedata\"\n",
        "\n",
        "subscription_id = \"\" \n",
        "resource_group = \"\" \n",
        "workspace_name = \"\" \n"
      ],
      "outputs": [
        {
          "output_type": "display_data",
          "data": {
            "application/vnd.livy.statement-meta+json": {
              "spark_pool": "spark1",
              "session_id": 37,
              "statement_id": 1,
              "state": "finished",
              "livy_statement_state": "available",
              "queued_time": "2021-10-14T04:18:36.4468527Z",
              "session_start_time": "2021-10-14T04:18:36.4895594Z",
              "execution_start_time": "2021-10-14T04:19:07.5444202Z",
              "execution_finish_time": "2021-10-14T04:19:07.6904358Z"
            },
            "text/plain": "StatementMeta(spark1, 37, 1, Finished, Available)"
          },
          "metadata": {}
        }
      ],
      "execution_count": 1,
      "metadata": {
        "tags": [
          "parameters"
        ]
      }
    },
    {
      "cell_type": "code",
      "source": [
        "import azureml.core\n",
        "#print(\"SDK Version:\", azureml.core.VERSION)\n",
        "from azureml.core.experiment import Experiment\n",
        "from azureml.core.workspace import Workspace\n",
        "from azureml.train.automl.run import AutoMLRun\n",
        "from azureml.train.automl import AutoMLConfig\n",
        "from azureml.automl.runtime.onnx_convert import OnnxConverter\n",
        "from azureml.core.model import Model\n",
        "from azureml.core import Environment\n",
        "from azureml.core.model import InferenceConfig\n",
        "from azureml.core.webservice import AciWebservice\n",
        "from azureml.core.webservice import Webservice\n",
        "\n",
        "from azureml.core import Workspace\n"
      ],
      "outputs": [
        {
          "output_type": "display_data",
          "data": {
            "application/vnd.livy.statement-meta+json": {
              "spark_pool": "spark1",
              "session_id": 37,
              "statement_id": 2,
              "state": "finished",
              "livy_statement_state": "available",
              "queued_time": "2021-10-14T04:18:36.4528345Z",
              "session_start_time": null,
              "execution_start_time": "2021-10-14T04:19:07.7705284Z",
              "execution_finish_time": "2021-10-14T04:19:11.6424357Z"
            },
            "text/plain": "StatementMeta(spark1, 37, 2, Finished, Available)"
          },
          "metadata": {}
        }
      ],
      "execution_count": 2,
      "metadata": {}
    },
    {
      "cell_type": "markdown",
      "source": [
        "# Connect to AML Workspace "
      ],
      "metadata": {
        "nteract": {
          "transient": {
            "deleting": false
          }
        }
      }
    },
    {
      "cell_type": "code",
      "source": [
        "#save the model to a local file\n",
        "import azureml.core\n",
        "\n",
        "from azureml.core import Workspace\n",
        "ws = Workspace(workspace_name = workspace_name,\n",
        "               subscription_id = subscription_id,\n",
        "               resource_group = resource_group)\n",
        "ws.write_config()   \n",
        "\n",
        "from azureml.core.model import Model\n",
        "\n",
        "import joblib\n",
        "model_name='lease_renewal_model'\n",
        "model_path = Model.get_model_path(model_name=model_name, _workspace=ws)\n",
        "loaded_model = joblib.load(model_path)\n",
        "print('model loaded!')\n"
      ],
      "outputs": [
        {
          "output_type": "display_data",
          "data": {
            "application/vnd.livy.statement-meta+json": {
              "spark_pool": "spark1",
              "session_id": 37,
              "statement_id": 3,
              "state": "finished",
              "livy_statement_state": "available",
              "queued_time": "2021-10-14T04:18:36.4551699Z",
              "session_start_time": null,
              "execution_start_time": "2021-10-14T04:19:11.7486244Z",
              "execution_finish_time": "2021-10-14T04:19:18.5800942Z"
            },
            "text/plain": "StatementMeta(spark1, 37, 3, Finished, Available)"
          },
          "metadata": {}
        },
        {
          "output_type": "stream",
          "name": "stdout",
          "text": [
            "model loaded!"
          ]
        }
      ],
      "execution_count": 3,
      "metadata": {}
    },
    {
      "cell_type": "code",
      "source": [
        "sql_str = \"SELECT cid ,pid ,uid ,InitialLeaseTerm ,(InitialLeaseTerm + ifnull((num_renewals * avg_renewal_leaseterm),0)) as TotalLeaseTerm,isRenewed, \\\r\n",
        "WO_AirConditioning ,WO_AirDuctsorVents ,WO_CabinetDoors ,WO_Cabinets ,WO_Carpet , \\\r\n",
        "WO_Ceiling ,WO_CeilingFan ,WO_CleanUnit ,WO_Cleaning ,WO_Dishwasher ,WO_DoorRepairorReplace ,WO_Doorbell , \\\r\n",
        "WO_Drain ,WO_Dryer ,WO_Faucet ,WO_FilterReplacement ,WO_GarageRemote ,WO_GarbageDisposal ,WO_Heating ,WO_LightBulbs , \\\r\n",
        "WO_LightFixture ,WO_LockorExteriorDoor ,WO_LockorInteriorDoor ,WO_Microwave ,WO_Other ,WO_Outlets ,WO_Paint ,WO_PestControl , \\\r\n",
        "WO_Refrigerator ,WO_ShelvesorDrawers ,WO_ShowerHead ,WO_Sink ,WO_SinkStopper ,WO_SmokeDetector ,WO_StoveorOven ,WO_Switches , \\\r\n",
        "WO_Thermostat ,WO_Toilet ,WO_TowelBar ,WO_TrashRemoval ,WO_TuborShower ,WO_UnderSink ,WO_Walls ,WO_Washer ,WO_Windows , \\\r\n",
        "Movein_Easeofprocess ,Movein_OverallSatisfaction ,Movein_StaffCommunication ,Movein_StaffCourtesy ,Movein_StaffProfessionalism , \\\r\n",
        "Renewal_ConditionofProperty,Renewal_MaintenanceOverallSatisfaction ,Renewal_ManagementCommunication ,Renewal_ManagementCourtesy , \\\r\n",
        "Renewal_ManagementProblemResolution ,Renewal_ManagementProfessionalism ,Renewal_OverallSatisfaction FROM \" + table_name +  \\\r\n",
        "\" where isMovedOut = 'N'\"\r\n",
        "\r\n",
        "df_test = spark.sql(sql_str)\r\n",
        "df_test_pd = df_test.toPandas()\r\n"
      ],
      "outputs": [
        {
          "output_type": "display_data",
          "data": {
            "application/vnd.livy.statement-meta+json": {
              "spark_pool": "spark1",
              "session_id": 37,
              "statement_id": 4,
              "state": "finished",
              "livy_statement_state": "available",
              "queued_time": "2021-10-14T04:18:36.4564082Z",
              "session_start_time": null,
              "execution_start_time": "2021-10-14T04:19:18.6592504Z",
              "execution_finish_time": "2021-10-14T04:19:35.2768871Z"
            },
            "text/plain": "StatementMeta(spark1, 37, 4, Finished, Available)"
          },
          "metadata": {}
        }
      ],
      "execution_count": 4,
      "metadata": {
        "jupyter": {
          "source_hidden": false,
          "outputs_hidden": false
        },
        "nteract": {
          "transient": {
            "deleting": false
          }
        }
      }
    },
    {
      "cell_type": "code",
      "source": [
        "#batch inferencing\n",
        "drop_cols = ['cid','pid','uid','isRenewed']\n",
        "df_test = df_test_pd.drop(drop_cols, axis=1)\n",
        "\n",
        "model_path = Model.get_model_path(model_name = 'lease_renewal_model')\n",
        "model = joblib.load(model_path)\n",
        "\n",
        "prediction = model.predict(df_test)\n",
        "predit_proba = model.predict_proba(df_test)\n",
        "\n",
        "df_result = df_test_pd[['cid','pid','uid']] \n",
        "df_result['prediction'] = prediction\n",
        "df_result['predict_proba'] = predit_proba[['Y']]\n",
        "\n",
        "df_sp = spark.createDataFrame(df_result)\n",
        "df_sp.write.option('header', 'true').mode('overwrite').csv(f'abfss://{file_system_name}@{data_lake_account_name}.dfs.core.windows.net/resident360/batchpredictions/')\n",
        "\n",
        "df_sp.write.mode(\"overwrite\").saveAsTable(\"c360_data.lease_renewal_predictions_temp\")"
      ],
      "outputs": [
        {
          "output_type": "display_data",
          "data": {
            "application/vnd.livy.statement-meta+json": {
              "spark_pool": "spark1",
              "session_id": 37,
              "statement_id": 5,
              "state": "finished",
              "livy_statement_state": "available",
              "queued_time": "2021-10-14T04:18:36.4576641Z",
              "session_start_time": null,
              "execution_start_time": "2021-10-14T04:19:35.3595588Z",
              "execution_finish_time": "2021-10-14T04:19:42.1265586Z"
            },
            "text/plain": "StatementMeta(spark1, 37, 5, Finished, Available)"
          },
          "metadata": {}
        }
      ],
      "execution_count": 5,
      "metadata": {}
    },
    {
      "cell_type": "code",
      "source": [
        "sql_str = '''select CustomerId, min(prediction) as RenewalPrediction, round(min(predict_proba),4) * 100 as RenewalPredictionScore from c360_data.lease_renewal_predictions_temp as pred\n",
        "inner join c360_data.customer_profile_ids_combined as ids on pred.cid = ids.cid\n",
        "group by CustomerId'''\n",
        "\n",
        "df_pred = spark.sql(sql_str)\n",
        "df_pred.write.mode(\"overwrite\").saveAsTable(\"c360_data.lease_renewal_predictions\")\n",
        "df_pred.write.mode(\"overwrite\").saveAsTable(\"c360_data.lease_renewal_prediction\")\n",
        "spark.sql('drop table c360_data.lease_renewal_predictions_temp')"
      ],
      "outputs": [
        {
          "output_type": "display_data",
          "data": {
            "application/vnd.livy.statement-meta+json": {
              "spark_pool": "spark1",
              "session_id": 37,
              "statement_id": 6,
              "state": "finished",
              "livy_statement_state": "available",
              "queued_time": "2021-10-14T04:18:36.4587365Z",
              "session_start_time": null,
              "execution_start_time": "2021-10-14T04:19:42.2086233Z",
              "execution_finish_time": "2021-10-14T04:19:59.110372Z"
            },
            "text/plain": "StatementMeta(spark1, 37, 6, Finished, Available)"
          },
          "metadata": {}
        },
        {
          "output_type": "display_data",
          "data": {
            "text/plain": "DataFrame[]"
          },
          "metadata": {}
        }
      ],
      "execution_count": 6,
      "metadata": {
        "jupyter": {
          "outputs_hidden": false,
          "source_hidden": false
        },
        "nteract": {
          "transient": {
            "deleting": false
          }
        }
      }
    }
  ],
  "metadata": {
    "kernelspec": {
      "name": "synapse_pyspark",
      "language": "Python",
      "display_name": "Synapse PySpark"
    },
    "language_info": {
      "name": "python"
    },
    "kernel_info": {
      "name": "synapse_pyspark"
    },
    "save_output": true,
    "synapse_widget": {
      "version": "0.1",
      "state": {}
    }
  },
  "nbformat": 4,
  "nbformat_minor": 2
}