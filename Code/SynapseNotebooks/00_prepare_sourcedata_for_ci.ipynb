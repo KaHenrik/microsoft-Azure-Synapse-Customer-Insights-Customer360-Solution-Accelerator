{
  "cells": [
    {
      "cell_type": "markdown",
      "metadata": {
        "nteract": {
          "transient": {
            "deleting": false
          }
        }
      },
      "source": [
        "Copyright (c) Microsoft Corporation.\n",
        "\n",
        "Licensed under the MIT License."
      ]
    },
    {
      "cell_type": "markdown",
      "metadata": {
        "nteract": {
          "transient": {
            "deleting": false
          }
        }
      },
      "source": [
        "# Library Imports"
      ]
    },
    {
      "cell_type": "code",
      "execution_count": null,
      "metadata": {
        "jupyter": {
          "outputs_hidden": false,
          "source_hidden": false
        },
        "nteract": {
          "transient": {
            "deleting": false
          }
        }
      },
      "outputs": [],
      "source": [
        "from pyspark.sql.functions import *\n",
        "from pyspark.sql.types import *\n",
        "from notebookutils import mssparkutils\n",
        "import json"
      ]
    },
    {
      "cell_type": "markdown",
      "metadata": {
        "nteract": {
          "transient": {
            "deleting": false
          }
        }
      },
      "source": [
        "# Read in Data from Azure Data Lake"
      ]
    },
    {
      "cell_type": "code",
      "execution_count": null,
      "metadata": {
        "collapsed": true,
        "jupyter": {
          "outputs_hidden": false,
          "source_hidden": false
        },
        "nteract": {
          "transient": {
            "deleting": false
          }
        }
      },
      "outputs": [],
      "source": [
        "data_lake_account_name = '' # Synapse Workspace ADLS\n",
        "file_system_name = 'data'\n",
        "synapse_workspace_name = ''\n"
      ]
    },
    {
      "cell_type": "code",
      "execution_count": null,
      "metadata": {
        "collapsed": true,
        "jupyter": {
          "outputs_hidden": false,
          "source_hidden": false
        },
        "nteract": {
          "transient": {
            "deleting": false
          }
        }
      },
      "outputs": [],
      "source": [
        "try:\n",
        "    spark.sql(\"CREATE DATABASE c360_data\")\n",
        "except:\n",
        "    print(\"Database already exists\")\n"
      ]
    },
    {
      "cell_type": "code",
      "execution_count": null,
      "metadata": {
        "jupyter": {
          "outputs_hidden": false,
          "source_hidden": false
        },
        "nteract": {
          "transient": {
            "deleting": false
          }
        }
      },
      "outputs": [],
      "source": [
        "filename = 'properties'\n",
        "filebasepath = f'abfss://{file_system_name}@{data_lake_account_name}.dfs.core.windows.net/sourcedata/'\n",
        "df = spark.read.load(filebasepath + filename.lower() + '.csv', format='csv', header=True,inferSchema=True)\n",
        "df.write.mode(\"overwrite\").saveAsTable(\"c360_data.\" + filename)"
      ]
    },
    {
      "cell_type": "code",
      "execution_count": null,
      "metadata": {
        "collapsed": true,
        "jupyter": {
          "outputs_hidden": false,
          "source_hidden": false
        },
        "nteract": {
          "transient": {
            "deleting": false
          }
        }
      },
      "outputs": [],
      "source": [
        "id_columns = ['cid','pid','ptid','uid','utid','lid','sid','wid','paymentid','PostCode']\n",
        "date_columns = ['DateOfBirth']\n",
        "double_columns = ['LeaseTerm','answer']\n",
        "\n",
        "# convert sourcedata csv files to parquet\n",
        "filenames = ['residents_source1','residents_source2','leases','payments','workorders','surveys']\n",
        "\n",
        "filebasepath = f'abfss://{file_system_name}@{data_lake_account_name}.dfs.core.windows.net/sourcedata/'\n",
        "dfspath = 'https://' + data_lake_account_name + '.dfs.core.windows.net/' + file_system_name + '/sourcedata/'\n",
        "\n",
        "for filename in filenames:\n",
        "    df = spark.read.load(filebasepath + filename.lower() + '.csv', format='csv', header=True,inferSchema=True)\n",
        "\n",
        "   \n",
        "    id_cols = [col for col in df.columns if col in id_columns]\n",
        "    for id_col in id_cols:\n",
        "        if id_col == 'PostCode':\n",
        "            df = df.withColumn(\"PostCode\",lpad(df.PostCode, 5, '0'))  \n",
        "        df = df.withColumn(id_col,df[id_col].cast(StringType()))\n",
        "\n",
        "    date_cols = [col for col in df.columns if col in date_columns]\n",
        "    for date_col in date_cols:\n",
        "        #df = df.withColumn(date_col,df[date_col].cast(DateType())) \n",
        "        df = df.withColumn(date_col,df[date_col].cast(TimestampType())) \n",
        "\n",
        "    double_cols = [col for col in df.columns if col in double_columns]\n",
        "    for double_col in double_cols:\n",
        "        df = df.withColumn(double_col,df[double_col].cast(DoubleType()))     \n",
        "\n",
        "    df.write.mode(\"overwrite\").saveAsTable(\"c360_data.\" + filename)\n",
        "    "
      ]
    },
    {
      "cell_type": "code",
      "execution_count": null,
      "metadata": {
        "collapsed": true,
        "jupyter": {
          "outputs_hidden": false,
          "source_hidden": false
        },
        "nteract": {
          "transient": {
            "deleting": false
          }
        }
      },
      "outputs": [],
      "source": [
        "def get_ci_datedefinitions():\n",
        "    definitions = []\n",
        "    d = {\n",
        "            \"traitName\": \"is.formatted\",\n",
        "            \"extendsTrait\": \"is\",\n",
        "            \"explanation\": \"a root for traits that descibe how data is formatted\"\n",
        "        }\n",
        "    definitions.append(d)\n",
        "    d = {\n",
        "            \"traitName\": \"is.formatted.dateTime\",\n",
        "            \"extendsTrait\": \"is.formatted\",\n",
        "            \"explanation\": \"DateTime data formatted as a string in ISO 8601 format\",\n",
        "            \"hasParameters\": [{\n",
        "                \"name\": \"format\",\n",
        "                \"dataType\": \"stringFormat\",\n",
        "                \"defaultValue\": \"MM/DD/YYYY hh:mm\"\n",
        "            }]\n",
        "        }\n",
        "    definitions.append(d)\n",
        "    d = {\n",
        "            \"traitName\": \"is.formatted.date\",\n",
        "            \"extendsTrait\": \"is.formatted\",\n",
        "            \"explanation\": \"Date data formatted as a string in ISO 8601 format\",\n",
        "            \"hasParameters\": [{\n",
        "                \"name\": \"format\",\n",
        "                \"dataType\": \"stringFormat\",\n",
        "                \"defaultValue\": \"MM/DD/YYYY\"\n",
        "            }]\n",
        "        }\n",
        "    definitions.append(d)\n",
        "    d = {\n",
        "            \"traitName\": \"is.formatted.time\",\n",
        "            \"extendsTrait\": \"is.formatted\",\n",
        "            \"explanation\": \"Time data formatted as a string in ISO 8601 format\",\n",
        "            \"hasParameters\": [{\n",
        "                \"name\": \"format\",\n",
        "                \"dataType\": \"stringFormat\",\n",
        "                \"defaultValue\": \"hh:mm:ss\"\n",
        "            }]\n",
        "        }\n",
        "    definitions.append(d)\n",
        "    return(definitions)\n"
      ]
    },
    {
      "cell_type": "code",
      "execution_count": null,
      "metadata": {
        "collapsed": true,
        "jupyter": {
          "outputs_hidden": false,
          "source_hidden": false
        },
        "nteract": {
          "transient": {
            "deleting": false
          }
        }
      },
      "outputs": [],
      "source": [
        "#create manifest.json\n",
        "\n",
        "filenames = ['residents_source1','residents_source2','leases','payments','workorders','surveys']\n",
        "\n",
        "filebasepath = f'abfss://{file_system_name}@{data_lake_account_name}.dfs.core.windows.net/synapse/workspaces/{synapse_workspace_name}/warehouse/c360_data.db/'\n",
        "dfspath = 'https://' + data_lake_account_name + '.dfs.core.windows.net/' + file_system_name + '/synapse/workspaces/' + synapse_workspace_name + '/warehouse/c360_data.db/'\n",
        "id_columns = ['cid','pid','ptid','uid','utid','lid','wid','sid','paymentid','CustomerId']\n",
        "curreny_columns = ['amount','RenewalPredictionScore','LeaseTerm','answer']\n",
        "\n",
        "entities = []\n",
        "\n",
        "for filename in filenames:\n",
        "    df = spark.read.load(filebasepath + filename.lower(), format='parquet', header=True,inferSchema=True)\n",
        "    attributes = []\n",
        "    partitions = []\n",
        "    contents = []\n",
        "    for e in df.schema:\n",
        "        if e.name in id_columns:\n",
        "            edatatype = 'String'\n",
        "        elif e.name in curreny_columns:\n",
        "           edatatype = 'Double'\n",
        "        elif str(e.dataType) == 'StringType':\n",
        "            edatatype = 'String'\n",
        "        elif str(e.dataType) == 'TimestampType':\n",
        "            edatatype = 'DateTime'\n",
        "        elif str(e.dataType) == 'DateType':\n",
        "            edatatype = 'Date'\n",
        "        elif str(e.dataType) == 'IntegerType':\n",
        "            edatatype = 'Int32' #'Integer'\n",
        "        else:\n",
        "            edatatype = 'String'\n",
        "  \n",
        "        if edatatype == 'DateTime':\n",
        "          attr ={\n",
        "              \"name\": e.name,\n",
        "              \"appliedTraits\": [\n",
        "                  \"is.formatted.dateTime\"\n",
        "                ],\n",
        "              \"dataFormat\": edatatype\n",
        "          }\n",
        "        elif edatatype == 'Date':\n",
        "          attr ={\n",
        "              \"name\": e.name,\n",
        "              \"appliedTraits\": [\n",
        "                  \"is.formatted.date\"\n",
        "                ],\n",
        "              \"dataFormat\": edatatype\n",
        "          }\n",
        "        else:\n",
        "          attr ={\n",
        "              \"name\": e.name,\n",
        "              \"dataFormat\": edatatype,\n",
        "          }\n",
        "\n",
        "        attributes.append(attr)\n",
        "        content = {\n",
        "            \"type\" : \"attributeDefinition\",\n",
        "            \"name\" : e.name,\n",
        "            \"parent\" : filename + \"/attributeContext/\" + filename,\n",
        "            \"definition\" : \"resolvedFrom/\" + filename + \"/hasAttributes/\" + e.name,\n",
        "            \"contents\" : [\n",
        "              filename + \"/hasAttributes/\" + e.name\n",
        "            ]\n",
        "          }\n",
        "        contents.append(content)\n",
        "        #break\n",
        "\n",
        "    ent_imports = []\n",
        "    d = {\n",
        "        \"corpusPath\": '/' + filename + \".cdm.json\",\n",
        "        \"moniker\": \"resolvedFrom\"\n",
        "        }\n",
        "    ent_imports.append(d)\n",
        "\n",
        "    ent_definitions = []\n",
        "    d = {\n",
        "      \"entityName\": filename,\n",
        "      \"attributeContext\": {\n",
        "        \"type\": \"entity\",\n",
        "        \"name\": filename,\n",
        "        \"definition\": \"resolvedFrom/\" + filename,\n",
        "        \"contents\": contents\n",
        "      },\n",
        "      \"hasAttributes\": attributes,\n",
        "      \"version\": \"1.0.0.0\"\n",
        "    }\n",
        "    ent_definitions.append(d)\n",
        "    entity_model = {\"jsonSchemaSemanticVersion\": \"1.1.0\",\"imports\":ent_imports, \"definitions\":ent_definitions}\n",
        "    #print(entity_model)\n",
        "\n",
        "    \n",
        "    json_model = json.dumps(entity_model) \n",
        "\n",
        "    # convert to a dataframe\n",
        "    json_list = []\n",
        "    json_list.append(json_model)\n",
        "    df = spark.read.json(sc.parallelize(json_list))\n",
        "    #display(df)\n",
        "\n",
        "    entfilebasepath = f'abfss://{file_system_name}@{data_lake_account_name}.dfs.core.windows.net/c360data/' \n",
        "    entjsonpath = entfilebasepath + 'tempfolder'\n",
        "\n",
        "    df.coalesce(1).write.format('json').mode('overwrite').save(entjsonpath)\n",
        "    \n",
        "    # copy the model json file written in parts to a single model.json file\n",
        "    from notebookutils import mssparkutils\n",
        "    files = mssparkutils.fs.ls('/c360data/tempfolder')\n",
        "    for file1 in files:\n",
        "        if '.json' in file1.name:\n",
        "            srcfilename = '/c360data/tempfolder/' + file1.name\n",
        "            targetfilename = '/c360data/resolve/' + filename + '.cdm.json'\n",
        "            mssparkutils.fs.cp(srcfilename,targetfilename, True)\n",
        "            break\n",
        "    #delete the folder with parts file        \n",
        "    mssparkutils.fs.rm('/c360data/tempfolder',recurse=True)\n",
        "    #break\n",
        "\n",
        "\n",
        "#create the main manifest.json file\n",
        "imports = []\n",
        "entities = []\n",
        "\n",
        "for filename in filenames:\n",
        "    d = {\n",
        "      \"type\": \"LocalEntity\",\n",
        "      \"entityName\": filename,\n",
        "      \"entityPath\": \"resolve/\" + filename + '.cdm.json/' + filename,\n",
        "      \"dataPartitionPatterns\": [\n",
        "        {\n",
        "          \"name\": filename,\n",
        "          \"rootLocation\": 'synapse/workspaces/' + synapse_workspace_name + '/warehouse/c360_data.db/' + filename,\n",
        "          \"regularExpression\": \".+\\\\.parquet$\",\n",
        "          \"parameters\": [],\n",
        "          \"exhibitsTraits\": [\n",
        "            {\"traitReference\" : \"is.partition.format.parquet\"}\n",
        "          ]\n",
        "        }\n",
        "      ],\n",
        "      \"definitions\": get_ci_datedefinitions()\n",
        "    }\n",
        "    entities.append(d)\n",
        "\n",
        "manifest = {\"manifestName\": \"default\",\"entities\": entities,\"jsonSchemaSemanticVersion\": \"1.1.0\",\"imports\":imports}\n",
        "\n",
        "json_model = json.dumps(manifest) \n",
        "\n",
        "# convert to a dataframe\n",
        "json_list = []\n",
        "json_list.append(json_model)\n",
        "df = spark.read.json(sc.parallelize(json_list))\n",
        "#display(df)\n",
        "\n",
        "entfilebasepath = f'abfss://{file_system_name}@{data_lake_account_name}.dfs.core.windows.net/c360data/' \n",
        "entjsonpath = entfilebasepath + 'tempfolder'\n",
        "\n",
        "df.coalesce(1).write.format('json').mode('overwrite').save(entjsonpath)\n",
        "\n",
        "# copy the model json file written in parts to a single model.json file\n",
        "from notebookutils import mssparkutils\n",
        "files = mssparkutils.fs.ls('/c360data/tempfolder')\n",
        "for file1 in files:\n",
        "    if '.json' in file1.name:\n",
        "        srcfilename = '/c360data/tempfolder/' + file1.name\n",
        "        targetfilename = '/c360data/' + 'default.manifest.cdm.json'\n",
        "        mssparkutils.fs.cp(srcfilename,targetfilename, True)\n",
        "        break\n",
        "#delete the folder with parts file        \n",
        "mssparkutils.fs.rm('/c360data/tempfolder',recurse=True)\n"
      ]
    },
    {
      "cell_type": "code",
      "execution_count": null,
      "metadata": {
        "collapsed": true,
        "jupyter": {
          "outputs_hidden": false,
          "source_hidden": false
        },
        "nteract": {
          "transient": {
            "deleting": false
          }
        }
      },
      "outputs": [],
      "source": [
        "try:\n",
        "    mssparkutils.fs.rm('/default.manifest.cdm.json')\n",
        "    mssparkutils.fs.rm('/resolve',recurse=True)\n",
        "except:\n",
        "    pass\n",
        "    \n",
        "srcfilename = '/c360data/default.manifest.cdm.json'\n",
        "targetfilename = '/default.manifest.cdm.json'\n",
        "mssparkutils.fs.cp(srcfilename,targetfilename, True)\n",
        "\n",
        "# mssparkutils.fs.help()\n",
        "srcfilename = '/c360data/resolve'\n",
        "targetfilename = '/resolve'\n",
        "mssparkutils.fs.cp(srcfilename,targetfilename, True)\n",
        "\n",
        "mssparkutils.fs.rm('/c360data',recurse=True)"
      ]
    }
  ],
  "metadata": {
    "description": null,
    "kernelspec": {
      "display_name": "Synapse PySpark",
      "name": "synapse_pyspark"
    },
    "language_info": {
      "name": "python"
    },
    "save_output": true,
    "synapse_widget": {
      "state": {},
      "version": "0.1"
    }
  },
  "nbformat": 4,
  "nbformat_minor": 2
}
